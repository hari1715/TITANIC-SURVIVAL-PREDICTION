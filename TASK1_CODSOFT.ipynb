[smallpdf-convert-20241219-185615.zip](https://github.com/user-attachments/files/18198497/smallpdf-convert-20241219-185615.zip)

